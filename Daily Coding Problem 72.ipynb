{
 "cells": [
  {
   "cell_type": "markdown",
   "id": "d67bba42",
   "metadata": {},
   "source": [
    "# Daily Coding Problem 72"
   ]
  },
  {
   "cell_type": "raw",
   "id": "48f1027d",
   "metadata": {},
   "source": [
    "This problem was asked by Google.\n",
    "\n",
    "In a directed graph, each node is assigned an uppercase letter. We define a path's value as the number of most frequently-occurring letter along that path. For example, if a path in the graph goes through \"ABACA\", the value of the path is 3, since there are 3 occurrences of 'A' on the path.\n",
    "\n",
    "Given a graph with n nodes and m directed edges, return the largest value path of the graph. If the largest value is infinite, then return null.\n",
    "\n",
    "The graph is represented with a string and an edge list. The i-th character represents the uppercase letter of the i-th node. Each tuple in the edge list (i, j) means there is a directed edge from the i-th node to the j-th node. Self-edges are possible, as well as multi-edges.\n",
    "\n",
    "For example, the following input graph:\n",
    "\n",
    "ABACA\n",
    "[(0, 1),\n",
    " (0, 2),\n",
    " (2, 3),\n",
    " (3, 4)]\n",
    "Would have maximum value 3 using the path of vertices [0, 2, 3, 4], (A, A, C, A).\n",
    "\n",
    "The following input graph:\n",
    "\n",
    "A\n",
    "[(0, 0)]\n",
    "Should return null, since we have an infinite loop."
   ]
  },
  {
   "cell_type": "markdown",
   "id": "6df76897",
   "metadata": {},
   "source": [
    "# Solution\n",
    "\n",
    "for example, only one character could change, so we should only need to increment that one character. This sounds like a good problem for dynamic programming.\n",
    "\n",
    "Furthermore, notice that since we're using the alphabet of uppercase characters, we have a fixed number (26) of potential values that contribute to the longest chain.\n",
    "\n",
    "Let's keep a matrix of size N by 26. A[i][j] will contain the maximum value of the path that can be made from the character i (where i will index into the alphabet, so A = 0, B = 1, etc. Then we'll use the following recurrence to keep track of the path with the largest value:\n",
    "\n",
    " - When we get to a node v, we'll do DFS on all its neighbours.\n",
    " - Then A[v][j] will be the maximum of all A[neighbour][j] for all its neighbours.\n",
    " - Then, we also need to count the current node too, so increment A[v][current_char] by one, where current_char is    the current node's assigned letter.\n",
    "\n",
    "We will use DFS, like before, to actually search the graph as well as determining if we have a cycle."
   ]
  },
  {
   "cell_type": "code",
   "execution_count": 1,
   "id": "30a61b1d",
   "metadata": {},
   "outputs": [],
   "source": [
    "VISITED = 0\n",
    "UNVISITED = 1\n",
    "VISITING = 2\n",
    "\n",
    "def max_path(s, lst):\n",
    "    adj = [[] for v in s]\n",
    "    # Build adjacency list\n",
    "    for u, v in lst:\n",
    "        adj[u].append(v)\n",
    "\n",
    "    # Create matrix cache\n",
    "    dp = [[0 for _ in range(26)] for _ in range(len(s))]\n",
    "    state = {v: UNVISITED for v in range(len(s))}\n",
    "\n",
    "    def dfs(v):\n",
    "        state[v] = VISITING\n",
    "        for neighbour in adj[v]:\n",
    "            if state[neighbour] == VISITING:\n",
    "                # We have a cycle\n",
    "                return True\n",
    "            dfs(neighbour)\n",
    "            for i in range(26):\n",
    "                dp[v][i] = dp[neighbour][i]\n",
    "        current_char = ord(s[v]) - ord('A')\n",
    "        dp[v][current_char] += 1\n",
    "        state[v] = VISITED\n",
    "\n",
    "    # Run DFS on graph\n",
    "    for v in range(len(s)):\n",
    "        if state[v] == UNVISITED:\n",
    "            has_cycle = dfs(v)\n",
    "            if has_cycle:\n",
    "                return None\n",
    "\n",
    "    return max(max(v for v in node) for node in dp)"
   ]
  },
  {
   "cell_type": "markdown",
   "id": "6f3dec98",
   "metadata": {},
   "source": [
    "This will now just run in O(V + E) time, same as DFS.\n",
    "\n"
   ]
  },
  {
   "cell_type": "code",
   "execution_count": null,
   "id": "6e9cba35",
   "metadata": {},
   "outputs": [],
   "source": []
  }
 ],
 "metadata": {
  "kernelspec": {
   "display_name": "Python 3 (ipykernel)",
   "language": "python",
   "name": "python3"
  },
  "language_info": {
   "codemirror_mode": {
    "name": "ipython",
    "version": 3
   },
   "file_extension": ".py",
   "mimetype": "text/x-python",
   "name": "python",
   "nbconvert_exporter": "python",
   "pygments_lexer": "ipython3",
   "version": "3.8.10"
  }
 },
 "nbformat": 4,
 "nbformat_minor": 5
}
